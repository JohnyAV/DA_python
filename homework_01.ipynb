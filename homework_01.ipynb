{
 "cells": [
  {
   "cell_type": "code",
   "execution_count": 1,
   "metadata": {},
   "outputs": [
    {
     "data": {
      "text/plain": [
       "131072"
      ]
     },
     "execution_count": 1,
     "metadata": {},
     "output_type": "execute_result"
    }
   ],
   "source": [
    "from collections import Counter, defaultdict\n",
    "import sys\n",
    "import csv\n",
    "csv.field_size_limit(sys.maxsize)"
   ]
  },
  {
   "cell_type": "code",
   "execution_count": 2,
   "metadata": {
    "collapsed": true
   },
   "outputs": [],
   "source": [
    "file_path = 'vacancy.csv'\n",
    "vacs = list(csv.DictReader(open(file_path, encoding='utf-8')))"
   ]
  },
  {
   "cell_type": "code",
   "execution_count": 3,
   "metadata": {},
   "outputs": [
    {
     "data": {
      "text/plain": [
       "4002"
      ]
     },
     "execution_count": 3,
     "metadata": {},
     "output_type": "execute_result"
    }
   ],
   "source": [
    "len(vacs)"
   ]
  },
  {
   "cell_type": "code",
   "execution_count": 13,
   "metadata": {},
   "outputs": [],
   "source": [
    "#Сколько вакансий, которые вам нравятся?\n",
    "c = Counter([x.get('vactitle') \n",
    "for x in vacs if x.get('vactitle').lower().find('ведущий эксперт') > -1])"
   ]
  },
  {
   "cell_type": "code",
   "execution_count": 14,
   "metadata": {},
   "outputs": [
    {
     "data": {
      "text/plain": [
       "[('Ведущий эксперт', 2),\n",
       " ('Ведущий эксперт по технологиям', 2),\n",
       " ('Ведущий эксперт по кибербезопасности (cyber defence)', 1),\n",
       " ('Ведущий эксперт по технологиям (роль: системный аналитик)', 1),\n",
       " ('Ведущий эксперт IT инфраструктуры', 1),\n",
       " ('Ведущий эксперт KMS', 1),\n",
       " ('Ведущий эксперт DAG', 1),\n",
       " ('Ведущий эксперт по контактным центрам', 1),\n",
       " ('Ведущий эксперт по внедрению и сопровождению беспроводных сетей (Wi-Fi)',\n",
       "  1)]"
      ]
     },
     "execution_count": 14,
     "metadata": {},
     "output_type": "execute_result"
    }
   ],
   "source": [
    "c.most_common()"
   ]
  },
  {
   "cell_type": "code",
   "execution_count": 55,
   "metadata": {},
   "outputs": [
    {
     "data": {
      "text/plain": [
       "[('Ведущий эксперт', '2021-03-11'),\n",
       " ('Ведущий эксперт по кибербезопасности (cyber defence)', '2021-03-09'),\n",
       " ('Ведущий эксперт по технологиям (роль: системный аналитик)', '2021-03-03'),\n",
       " ('Ведущий эксперт', '2021-03-01'),\n",
       " ('Ведущий эксперт по технологиям', '2021-02-19'),\n",
       " ('Ведущий эксперт по технологиям', '2021-02-15'),\n",
       " ('Ведущий эксперт IT инфраструктуры', '2021-02-04'),\n",
       " ('Ведущий эксперт KMS', '2021-01-29'),\n",
       " ('Ведущий эксперт DAG', '2021-01-29'),\n",
       " ('Ведущий эксперт по контактным центрам', '2021-01-29'),\n",
       " ('Ведущий эксперт по внедрению и сопровождению беспроводных сетей (Wi-Fi)',\n",
       "  '2021-01-28')]"
      ]
     },
     "execution_count": 55,
     "metadata": {},
     "output_type": "execute_result"
    }
   ],
   "source": [
    "#За какие периоды эти вакансии?\n",
    "[(x.get('vactitle') , x.get('vacdate'))\n",
    "for x in vacs if x.get('vactitle').lower().find('ведущий эксперт') > -1]"
   ]
  },
  {
   "cell_type": "code",
   "execution_count": 33,
   "metadata": {},
   "outputs": [
    {
     "data": {
      "text/plain": [
       "[('Старший эксперт по технологиям', 5),\n",
       " ('Эксперт', 3),\n",
       " ('Ведущий эксперт', 2),\n",
       " ('Ведущий эксперт по технологиям', 2),\n",
       " ('Строительный эксперт', 2)]"
      ]
     },
     "execution_count": 33,
     "metadata": {},
     "output_type": "execute_result"
    }
   ],
   "source": [
    "# Сколько вакансий с такими позициями, на которых вы работаете?\n",
    "c = Counter([x.get('vactitle') \n",
    "for x in vacs if x.get('vactitle').lower().find('эксперт') > -1])\n",
    "c.most_common(5)"
   ]
  },
  {
   "cell_type": "code",
   "execution_count": 35,
   "metadata": {},
   "outputs": [
    {
     "data": {
      "text/plain": [
       "[('Аналитик данных', 5),\n",
       " ('Ведущий аналитик данных', 2),\n",
       " ('Data analyst. Аналитик данных в трайб «Массовая персонализация».', 1),\n",
       " ('Аналитик данных (проект СберID)', 1),\n",
       " ('Аналитик данных/администратор проектов', 1),\n",
       " ('Системный аналитик/аналитик данных', 1),\n",
       " ('Ведущий аналитик данных . Руководитель направления Дивизион `Массовая персонализация`',\n",
       "  1),\n",
       " ('Аналитик данных в команду «Голосовые сценарии. Платежи и переводы»', 1),\n",
       " ('Аналитик данных в команду «Инфраструктура данных»', 1),\n",
       " ('Младший аналитик данных/Data Scientist', 1),\n",
       " ('Аналитик данных/Администратор проектов', 1),\n",
       " ('Аналитик данных по затратам и ресурсам', 1),\n",
       " ('Аналитик данных AI', 1),\n",
       " ('Аналитик данных (аналитические витрины)', 1),\n",
       " ('Ведущий аналитик данных (Корпоративный блок)', 1),\n",
       " ('Аналитик данных (Корпоративно-Инвестиционный блок)', 1)]"
      ]
     },
     "execution_count": 35,
     "metadata": {},
     "output_type": "execute_result"
    }
   ],
   "source": [
    "#Сколько вакансий для аналитика данных?\n",
    "c = Counter([x.get('vactitle') \n",
    "for x in vacs if x.get('vactitle').lower().find('аналитик данных') > -1])\n",
    "c.most_common()"
   ]
  },
  {
   "cell_type": "code",
   "execution_count": null,
   "metadata": {
    "collapsed": true
   },
   "outputs": [],
   "source": []
  },
  {
   "cell_type": "code",
   "execution_count": 58,
   "metadata": {},
   "outputs": [
    {
     "data": {
      "text/plain": [
       "[('Аналитик данных', 2),\n",
       " ('Data analyst. Аналитик данных в трайб «Массовая персонализация».', 1),\n",
       " ('Ведущий аналитик данных . Руководитель направления Дивизион `Массовая персонализация`',\n",
       "  1),\n",
       " ('Аналитик данных в команду «Инфраструктура данных»', 1),\n",
       " ('Младший аналитик данных/Data Scientist', 1),\n",
       " ('Аналитик данных AI', 1),\n",
       " ('Аналитик данных (аналитические витрины)', 1)]"
      ]
     },
     "execution_count": 58,
     "metadata": {},
     "output_type": "execute_result"
    }
   ],
   "source": [
    "#Сколько вакансий для аналитика данных с использованием Python?\n",
    "c = Counter([x.get('vactitle') \n",
    "for x in vacs if x.get('vactitle').lower().find('аналитик данных') > -1 and x.get('vacdescription').lower().find('python') > -1])\n",
    "c.most_common()"
   ]
  },
  {
   "cell_type": "code",
   "execution_count": null,
   "metadata": {
    "collapsed": true
   },
   "outputs": [],
   "source": []
  }
 ],
 "metadata": {
  "kernelspec": {
   "display_name": "Python 3",
   "language": "python",
   "name": "python3"
  },
  "language_info": {
   "codemirror_mode": {
    "name": "ipython",
    "version": 3
   },
   "file_extension": ".py",
   "mimetype": "text/x-python",
   "name": "python",
   "nbconvert_exporter": "python",
   "pygments_lexer": "ipython3",
   "version": "3.6.3"
  }
 },
 "nbformat": 4,
 "nbformat_minor": 2
}
